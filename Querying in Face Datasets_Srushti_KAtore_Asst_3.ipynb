{
 "cells": [
  {
   "cell_type": "code",
   "execution_count": 26,
   "metadata": {},
   "outputs": [
    {
     "ename": "error",
     "evalue": "OpenCV(4.4.0) C:\\Users\\appveyor\\AppData\\Local\\Temp\\1\\pip-req-build-6sxsq0tp\\opencv\\modules\\objdetect\\src\\cascadedetect.cpp:1689: error: (-215:Assertion failed) !empty() in function 'cv::CascadeClassifier::detectMultiScale'\n",
     "output_type": "error",
     "traceback": [
      "\u001b[1;31m---------------------------------------------------------------------------\u001b[0m",
      "\u001b[1;31merror\u001b[0m                                     Traceback (most recent call last)",
      "\u001b[1;32m<ipython-input-26-ce73c1d7f310>\u001b[0m in \u001b[0;36m<module>\u001b[1;34m\u001b[0m\n\u001b[0;32m     29\u001b[0m     \u001b[1;33m(\u001b[0m\u001b[0m_\u001b[0m\u001b[1;33m,\u001b[0m \u001b[0mim\u001b[0m\u001b[1;33m)\u001b[0m \u001b[1;33m=\u001b[0m \u001b[0mwebcam\u001b[0m\u001b[1;33m.\u001b[0m\u001b[0mread\u001b[0m\u001b[1;33m(\u001b[0m\u001b[1;33m)\u001b[0m\u001b[1;33m\u001b[0m\u001b[1;33m\u001b[0m\u001b[0m\n\u001b[0;32m     30\u001b[0m     \u001b[0mgray\u001b[0m \u001b[1;33m=\u001b[0m \u001b[0mcv2\u001b[0m\u001b[1;33m.\u001b[0m\u001b[0mcvtColor\u001b[0m\u001b[1;33m(\u001b[0m\u001b[0mim\u001b[0m\u001b[1;33m,\u001b[0m \u001b[0mcv2\u001b[0m\u001b[1;33m.\u001b[0m\u001b[0mCOLOR_BGR2GRAY\u001b[0m\u001b[1;33m)\u001b[0m\u001b[1;33m\u001b[0m\u001b[1;33m\u001b[0m\u001b[0m\n\u001b[1;32m---> 31\u001b[1;33m     \u001b[0mfaces\u001b[0m \u001b[1;33m=\u001b[0m \u001b[0mface_cascade\u001b[0m\u001b[1;33m.\u001b[0m\u001b[0mdetectMultiScale\u001b[0m\u001b[1;33m(\u001b[0m\u001b[0mgray\u001b[0m\u001b[1;33m,\u001b[0m \u001b[1;36m1.3\u001b[0m\u001b[1;33m,\u001b[0m \u001b[1;36m4\u001b[0m\u001b[1;33m)\u001b[0m\u001b[1;33m\u001b[0m\u001b[1;33m\u001b[0m\u001b[0m\n\u001b[0m\u001b[0;32m     32\u001b[0m     \u001b[1;32mfor\u001b[0m \u001b[1;33m(\u001b[0m\u001b[0mx\u001b[0m\u001b[1;33m,\u001b[0m \u001b[0my\u001b[0m\u001b[1;33m,\u001b[0m \u001b[0mw\u001b[0m\u001b[1;33m,\u001b[0m \u001b[0mh\u001b[0m\u001b[1;33m)\u001b[0m \u001b[1;32min\u001b[0m \u001b[0mfaces\u001b[0m\u001b[1;33m:\u001b[0m\u001b[1;33m\u001b[0m\u001b[1;33m\u001b[0m\u001b[0m\n\u001b[0;32m     33\u001b[0m         \u001b[0mcv2\u001b[0m\u001b[1;33m.\u001b[0m\u001b[0mrectangle\u001b[0m\u001b[1;33m(\u001b[0m\u001b[0mim\u001b[0m\u001b[1;33m,\u001b[0m \u001b[1;33m(\u001b[0m\u001b[0mx\u001b[0m\u001b[1;33m,\u001b[0m \u001b[0my\u001b[0m\u001b[1;33m)\u001b[0m\u001b[1;33m,\u001b[0m \u001b[1;33m(\u001b[0m\u001b[0mx\u001b[0m \u001b[1;33m+\u001b[0m \u001b[0mw\u001b[0m\u001b[1;33m,\u001b[0m \u001b[0my\u001b[0m \u001b[1;33m+\u001b[0m \u001b[0mh\u001b[0m\u001b[1;33m)\u001b[0m\u001b[1;33m,\u001b[0m \u001b[1;33m(\u001b[0m\u001b[1;36m255\u001b[0m\u001b[1;33m,\u001b[0m \u001b[1;36m0\u001b[0m\u001b[1;33m,\u001b[0m \u001b[1;36m0\u001b[0m\u001b[1;33m)\u001b[0m\u001b[1;33m,\u001b[0m \u001b[1;36m2\u001b[0m\u001b[1;33m)\u001b[0m\u001b[1;33m\u001b[0m\u001b[1;33m\u001b[0m\u001b[0m\n",
      "\u001b[1;31merror\u001b[0m: OpenCV(4.4.0) C:\\Users\\appveyor\\AppData\\Local\\Temp\\1\\pip-req-build-6sxsq0tp\\opencv\\modules\\objdetect\\src\\cascadedetect.cpp:1689: error: (-215:Assertion failed) !empty() in function 'cv::CascadeClassifier::detectMultiScale'\n"
     ]
    }
   ],
   "source": [
    "# Creating database \n",
    "# It captures images and stores them in datasets \n",
    "# folder under the folder name of sub_data \n",
    "import cv2, sys, numpy, os \n",
    "haar_file = 'haarcascade_frontalface_default.xml'\n",
    "\n",
    "# All the faces data will be \n",
    "# present this folder \n",
    "datasets = 'datasets'\n",
    "\n",
    "\n",
    "# These are sub data sets of folder, \n",
    "sub_data = 'srushti'\n",
    "\n",
    "path = os.path.join(datasets, sub_data) \n",
    "os.path.isdir(path)\n",
    "    \n",
    "\n",
    "    # defining the size of images \n",
    "(width, height) = (130, 100)\n",
    "\n",
    "\n",
    "face_cascade = cv2.CascadeClassifier(haar_file) \n",
    "webcam = cv2.VideoCapture(0) \n",
    "\n",
    "    # The program loops until it has 30 images of the face. \n",
    "count = 1\n",
    "while count < 30:\n",
    "    (_, im) = webcam.read() \n",
    "    gray = cv2.cvtColor(im, cv2.COLOR_BGR2GRAY) \n",
    "    faces = face_cascade.detectMultiScale(gray, 1.3, 4) \n",
    "    for (x, y, w, h) in faces:\n",
    "        cv2.rectangle(im, (x, y), (x + w, y + h), (255, 0, 0), 2) \n",
    "        face = gray[y:y + h, x:x + w] \n",
    "        face_resize = cv2.resize(face, (width, height)) \n",
    "        cv2.imwrite('% s/% s.png' % (path, count), face_resize) \n",
    "        count += 1\n",
    "\n",
    "        cv2.imshow('OpenCV', im) \n",
    "        key = cv2.waitKey(10) \n",
    "        if key == 27:\n",
    "            break\n"
   ]
  },
  {
   "cell_type": "code",
   "execution_count": 27,
   "metadata": {},
   "outputs": [
    {
     "name": "stdout",
     "output_type": "stream",
     "text": [
      "Recognizing Face Please Be in sufficient Lights...\n"
     ]
    }
   ],
   "source": [
    "# It helps in identifying the faces \n",
    "import cv2, sys, numpy, os \n",
    "size = 4\n",
    "haar_file = 'haarcascade_frontalface_default.xml'\n",
    "datasets = 'datasets'\n",
    "\n",
    "# Part 1: Create fisherRecognizer \n",
    "print('Recognizing Face Please Be in sufficient Lights...') \n",
    "\n",
    "# Create a list of images and a list of corresponding names \n",
    "(images, lables, names, id) = ([], [], {}, 0) \n",
    "for (subdirs, dirs, files) in os.walk(datasets): \n",
    "    for subdir in dirs: \n",
    "        names[id] = subdir \n",
    "        subjectpath = os.path.join(datasets, subdir) \n",
    "        for filename in os.listdir(subjectpath): \n",
    "            path = subjectpath + '/' + filename \n",
    "            lable = id\n",
    "            images.append(cv2.imread(path, 0)) \n",
    "            lables.append(int(lable)) \n",
    "            id += 1\n",
    "            (width, height) = (130, 100) \n",
    "\n",
    "            # Create a Numpy array from the two lists above \n",
    "            (images, lables) = [numpy.array(lis) for lis in [images, lables]] \n",
    "\n",
    "            # OpenCV trains a model from the images \n",
    "            # NOTE FOR OpenCV2: remove '.face' \n",
    "            model = cv2.face.LBPHFaceRecognizer_create() \n",
    "            model.train(images, lables) \n",
    "\n",
    "            # Part 2: Use fisherRecognizer on camera stream \n",
    "            face_cascade = cv2.CascadeClassifier(haar_file) \n",
    "            webcam = cv2.VideoCapture(0) \n",
    "            while True: \n",
    "                (_, im) = webcam.read() \n",
    "                gray = cv2.cvtColor(im, cv2.COLOR_BGR2GRAY) \n",
    "                faces = face_cascade.detectMultiScale(gray, 1.3, 5) \n",
    "                for (x, y, w, h) in faces:\n",
    "                    cv2.rectangle(im, (x, y),(x + w, y + h),(255, 0, 0), 2) \n",
    "                    face = gray[y:y + h, x:x + w] \n",
    "                    face_resize = cv2.resize(face, (width, height)) \n",
    "                    # Try to recognize the face \n",
    "                    prediction = model.predict(face_resize) \n",
    "                    cv2.rectangle(im,(x, y),(x + w, y + h),(0, 255, 0), 3)\n",
    "\n",
    "                    if prediction[1]<500: \n",
    "\n",
    "                        cv2.putText(im, '% s - %.0f' %\n",
    "                                    (names[prediction[0]], prediction[1]), (x-10, y-10), \n",
    "                                    cv2.FONT_HERSHEY_PLAIN, 1, (0, 255, 0)) \n",
    "                    else: \n",
    "                        cv2.putText(im, 'not recognized', \n",
    "                                        (x-10, y-10), cv2.FONT_HERSHEY_PLAIN, 1, (0, 255, 0)) \n",
    "\n",
    "                        cv2.imshow('OpenCV', im) \n",
    "\n",
    "                        key = cv2.waitKey(10) \n",
    "                        if key == 27: \n",
    "                            break\n"
   ]
  },
  {
   "cell_type": "code",
   "execution_count": null,
   "metadata": {},
   "outputs": [],
   "source": []
  }
 ],
 "metadata": {
  "kernelspec": {
   "display_name": "Python 3",
   "language": "python",
   "name": "python3"
  },
  "language_info": {
   "codemirror_mode": {
    "name": "ipython",
    "version": 3
   },
   "file_extension": ".py",
   "mimetype": "text/x-python",
   "name": "python",
   "nbconvert_exporter": "python",
   "pygments_lexer": "ipython3",
   "version": "3.7.6"
  }
 },
 "nbformat": 4,
 "nbformat_minor": 4
}
